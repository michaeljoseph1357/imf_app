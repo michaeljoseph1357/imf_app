{
 "cells": [
  {
   "cell_type": "code",
   "execution_count": 1,
   "id": "3e7bb6af",
   "metadata": {},
   "outputs": [],
   "source": [
    "import pandas as pd\n",
    "\n",
    "# File path of the Excel file\n",
    "file_path = r'C:\\Users\\MICHAELBOYLE\\OneDrive - Deloitte (O365D)\\Desktop\\Datasets for python\\April 2023 world economic outlook.xlsx'\n",
    "\n",
    "# Load the Excel file into a DataFrame\n",
    "df = pd.read_excel(file_path)\n",
    "\n"
   ]
  },
  {
   "cell_type": "code",
   "execution_count": 2,
   "id": "76abf5cb",
   "metadata": {},
   "outputs": [
    {
     "name": "stdout",
     "output_type": "stream",
     "text": [
      "Index(['WEO Country Code', 'ISO', 'WEO Subject Code', 'Country',\n",
      "       'Subject Descriptor', 'Subject Notes', 'Units', 'Scale',\n",
      "       'Country/Series-specific Notes', '1980', '1981', '1982', '1983', '1984',\n",
      "       '1985', '1986', '1987', '1988', '1989', '1990', '1991', '1992', '1993',\n",
      "       '1994', '1995', '1996', '1997', '1998', '1999', '2000', '2001', '2002',\n",
      "       '2003', '2004', '2005', '2006', '2007', '2008', '2009', '2010', '2011',\n",
      "       '2012', '2013', '2014', '2015', '2016', '2017', '2018', '2019', '2020',\n",
      "       '2021', '2022', '2023', '2024', '2025', '2026', '2027', '2028',\n",
      "       'Estimates Start After'],\n",
      "      dtype='object')\n"
     ]
    }
   ],
   "source": [
    "# Get the current column headers\n",
    "headers = df.columns.tolist()\n",
    "\n",
    "# Generate the new column headers for the specified years\n",
    "new_years = [str(year) for year in range(1980, 2029)]\n",
    "new_headers = headers[:9] + new_years + headers[-1:]\n",
    "\n",
    "# Assign the new column headers back to the dataframe\n",
    "df.columns = new_headers\n",
    "\n",
    "# Print the modified dataframe headers\n",
    "print(df.columns)\n"
   ]
  },
  {
   "cell_type": "code",
   "execution_count": 3,
   "id": "7f28c6fe",
   "metadata": {},
   "outputs": [],
   "source": [
    "# Filter the dataframe based on 'Country Name' and 'Subject Descriptor'\n",
    "filtered_df = df[(df['Country'] == 'United Kingdom') & (df['Subject Descriptor'] == 'Gross domestic product, deflator')]\n",
    "\n",
    "# Access the time series data for the filtered columns\n",
    "time_series_data = filtered_df.iloc[:, 9:]"
   ]
  },
  {
   "cell_type": "code",
   "execution_count": 4,
   "id": "f7918556",
   "metadata": {},
   "outputs": [
    {
     "name": "stdout",
     "output_type": "stream",
     "text": [
      "Dash is running on http://127.0.0.1:8050/\n",
      "\n"
     ]
    },
    {
     "name": "stderr",
     "output_type": "stream",
     "text": [
      "C:\\Users\\MICHAE~1\\AppData\\Local\\Temp/ipykernel_23072/3276734095.py:2: UserWarning: \n",
      "The dash_core_components package is deprecated. Please replace\n",
      "`import dash_core_components as dcc` with `from dash import dcc`\n",
      "  import dash_core_components as dcc\n",
      "C:\\Users\\MICHAE~1\\AppData\\Local\\Temp/ipykernel_23072/3276734095.py:3: UserWarning: \n",
      "The dash_html_components package is deprecated. Please replace\n",
      "`import dash_html_components as html` with `from dash import html`\n",
      "  import dash_html_components as html\n"
     ]
    },
    {
     "name": "stdout",
     "output_type": "stream",
     "text": [
      "Dash app running on http://127.0.0.1:8050/\n"
     ]
    }
   ],
   "source": [
    "import dash\n",
    "import dash_core_components as dcc\n",
    "import dash_html_components as html\n",
    "from dash.dependencies import Input, Output\n",
    "from jupyter_dash import JupyterDash\n",
    "import plotly.graph_objs as go\n",
    "\n",
    "import pandas as pd\n",
    "import numpy as np\n",
    "\n",
    "# assuming you have a pandas dataframe named df\n",
    "# df = pd.read_csv('your_data.csv')  # replace 'your_data.csv' with your actual csv file\n",
    "\n",
    "# Create the Dash app\n",
    "app = JupyterDash(__name__)\n",
    "\n",
    "available_countries = ['Germany', 'United Kingdom', 'Brazil']\n",
    "available_years = [str(year) for year in range(1980, 2029)]\n",
    "\n",
    "app.layout = html.Div([\n",
    "    html.Label('Country'),\n",
    "    dcc.Dropdown(\n",
    "        id='country_dropdown',\n",
    "        options=[{'label': i, 'value': i} for i in available_countries],\n",
    "        value=available_countries[0]\n",
    "    ),\n",
    "    html.Label('Start Year'),\n",
    "    dcc.Dropdown(\n",
    "        id='starting_year_dropdown',\n",
    "        options=[{'label': i, 'value': i} for i in available_years],\n",
    "        value=available_years[0]\n",
    "    ),\n",
    "    dcc.Graph(id='my-graph')\n",
    "])\n",
    "\n",
    "@app.callback(\n",
    "    Output('my-graph', 'figure'),\n",
    "    [Input('country_dropdown', 'value'), \n",
    "     Input('starting_year_dropdown', 'value')])\n",
    "def update_graph(country, starting_year):\n",
    "    starting_year = int(starting_year)\n",
    "    subject_descriptor = \"Gross domestic product, constant prices\"\n",
    "\n",
    "    # Filter the dataframe based on 'Country' and 'Subject Descriptor'\n",
    "    filtered_df = df[(df['Country'] == country) & (df['Subject Descriptor'] == subject_descriptor)]\n",
    "\n",
    "    # Access the time series data for the filtered columns\n",
    "    time_series_data = filtered_df.iloc[:, 9:-1]\n",
    "\n",
    "    # Get the column headers as the years\n",
    "    years = time_series_data.columns.astype(int).tolist()\n",
    "\n",
    "    # Calculate the base value for the chosen starting year\n",
    "    base_index = years.index(starting_year)\n",
    "    base_value = time_series_data.iloc[:, base_index].values\n",
    "\n",
    "    # Divide the time series data by the base value and multiply by 100\n",
    "    normalized_data = (time_series_data.values / base_value[:, np.newaxis]) * 100\n",
    "\n",
    "    # Find the index of the first estimate year\n",
    "    estimate_index = years.index(2023)\n",
    "\n",
    "    # Generate your chart\n",
    "    fig = go.Figure()\n",
    "\n",
    "    # Add actual data line (including 2023)\n",
    "    fig.add_trace(go.Scatter(\n",
    "        x = years[base_index:estimate_index+1], \n",
    "        y = normalized_data[0][base_index:estimate_index+1], \n",
    "        mode='lines',\n",
    "        line=dict(color='blue', width=2),\n",
    "        name='Actual'\n",
    "    ))\n",
    "\n",
    "    # Add estimated data line (starting from 2023)\n",
    "    fig.add_trace(go.Scatter(\n",
    "        x = years[estimate_index:], \n",
    "        y = normalized_data[0][estimate_index:], \n",
    "        mode='lines',\n",
    "        line=dict(color='red', width=2, dash='dash'),  # Change to a dashed line\n",
    "        name='Estimated'\n",
    "    ))\n",
    "\n",
    "    fig.update_layout(\n",
    "        title='GDP Deflator Time Series for {} (Base Year: {})'.format(country, starting_year),\n",
    "        xaxis_title='Year',\n",
    "        yaxis_title='Normalised GDP Deflator',\n",
    "        annotations=[\n",
    "            dict(\n",
    "                x=0.01,\n",
    "                y=-0.2,\n",
    "                showarrow=False,\n",
    "                text=\"Source: International Monetary Fund (IMF), World Economic Outlook April 2023\",\n",
    "                xref=\"paper\",\n",
    "                yref=\"paper\"\n",
    "            )\n",
    "        ]\n",
    "    )\n",
    "    \n",
    "    return fig\n",
    "\n",
    "\n",
    "\n",
    "\n",
    "\n",
    "app.run_server(mode='external')\n"
   ]
  },
  {
   "cell_type": "code",
   "execution_count": null,
   "id": "d4e6af35",
   "metadata": {},
   "outputs": [],
   "source": []
  }
 ],
 "metadata": {
  "kernelspec": {
   "display_name": "Python 3 (ipykernel)",
   "language": "python",
   "name": "python3"
  },
  "language_info": {
   "codemirror_mode": {
    "name": "ipython",
    "version": 3
   },
   "file_extension": ".py",
   "mimetype": "text/x-python",
   "name": "python",
   "nbconvert_exporter": "python",
   "pygments_lexer": "ipython3",
   "version": "3.9.7"
  }
 },
 "nbformat": 4,
 "nbformat_minor": 5
}
